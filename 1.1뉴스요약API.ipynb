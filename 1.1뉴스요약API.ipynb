{
 "cells": [
  {
   "cell_type": "code",
   "execution_count": 1,
   "metadata": {},
   "outputs": [
    {
     "name": "stdout",
     "output_type": "stream",
     "text": [
      "\n",
      "\n",
      "\n",
      "\n",
      "\n",
      "// flash 오류를 우회하기 위한 함수 추가\n",
      "function _flash_removeCallback() {}\n",
      "\n",
      "문 대통령 \"조국 사태로 갈등과 분열··· 사과 말씀 드린다\"문 대통령 \"검찰 내부개혁, 윤석열 검찰총장 신뢰\"문 대통령 \"모병제, 현실적 여건은 아직…중장기적 설계해야\"(* 자세한 내용은 JTBC 뉴스에서 확인하실 수 있습니다.)(JTBC 뉴스운영팀)▶ JTBC 뉴스 제보하기 ▶ 놓친 '뉴스룸' 다시보기▶ 확 달라진 'JTBC 뉴스APP' 이슈·라이브까지 한눈에!Copyright by JTBC(http://jtbc.joins.com) and JTBC Content Hub Co., Ltd. All Rights Reserved. 무단 전재 및 재배포 금지\n",
      "\n",
      "\n"
     ]
    }
   ],
   "source": [
    "#본문 가져오기 Test\n",
    "from urllib.request import urlopen\n",
    "import time\n",
    "from bs4 import BeautifulSoup\n",
    "import re\n",
    "import csv\n",
    "\n",
    "url = 'https://news.naver.com/main/ranking/read.nhn?rankingType=popular_day&oid=437&aid=0000224615&date=20191119&type=1&rankingSectionId=100&rankingSeq=6'\n",
    "#날짜별 랭킹뉴스 url\n",
    "\n",
    "html=urlopen(url).read()\n",
    "soup=BeautifulSoup(html, 'html.parser') #html파싱\n",
    "\n",
    "\n",
    "\n",
    "\n",
    "for li in soup.find_all('div',id='articleBodyContents'):\n",
    "   \n",
    "    #a=li.select_one('script').text\n",
    "    \n",
    "    #li=li.get_text().replace(\"li.select_one('script').text\", \"키카라라라라라라라랄라라라랄ㅋㅋㅋ\")#단어대체\n",
    "    #li=re.sub(a, '',li)\n",
    "    print(li.text)\n",
    "    \n"
   ]
  },
  {
   "cell_type": "code",
   "execution_count": 1,
   "metadata": {},
   "outputs": [
    {
     "name": "stdout",
     "output_type": "stream",
     "text": [
      "서울시청에서 류훈 서울시 주택건축본부장이 26일 '역세권 청년주택 2.0계획'을 발표하고 있다. 서울시청에서 류훈 서울시 주택건축본부장이 26일 '역세권 청년주택 2.0계획'을 발표하고 있다.\n",
      "\n",
      "/뉴시스 /뉴시스\n",
      "\n",
      "/뉴시스 /뉴시스\n",
      "\n",
      "[파이낸셜뉴스] '역세권 청년주택'의 청년·신혼부부 공공주택 비중이 최대 70%까지 늘어나고 임대료는 주변 시세의 절반 이하로 떨어진다. 이를 위해 민간사업자의 사업성과 자금 유동성을 높일 수 있도록 일부 분양이 허용되고 서울주택도시공사(SH공사)가 일부를 선매입하도록 하는 등 사업 방식이 바뀐다.서울시는 '역세권 청년주택사업' 시행 3년을 맞아 이같은 내용을 담은 '역세권 청년주택 2.0계획'을 26일 발표했다. 그동안 지적됐던 △고가 임대료 △초기투자비 회수 장기화 등에 따른 사업 참여 저조 △주거환경의 질 등의 문제를 개선하는 방안이 마련했다.먼저 시는 역세권 청년주택 중 청년과 신혼부부 주택의 비중을 40∼70% 수준으로 대폭 늘리고 이를 모두 주변 시세의 50% 이하 임대료로 공급하기로 했다.현재 역세권 청년주택에서 주변 시세의 30% 수준의 임대료로 공급되는 공공임대주택 비중은 전체 물량의 20%에 그친다. 나머지 80%는 민간임대주택으로 주변 시세의 85~95%의 임대료를 받는다.이같은 방안을 실현하기 위해 'SH공사 선매입형'과 '일부 분양형'을 도입하기로 했다.'SH 선매입형'은 민간사업자가 원하는 경우 총 주택연면적의 30%까지 SH가 미리 매입하는 방식이다.이럴 경우 주변 시세의 30% 이하 임대료로 공급하는 물량이 전체의 20%(공공 20%), 주변시세의 50% 이하 임대료로 공급하는 물량이 50%(선매입 30%+특별공급 20%)로, 전체 물량의 70%가 시세의 반값 이하로 공급될 수 있다.사업자는 초기 자금을 일부 회수해 자금 유동성을 높이고 사업 리스크를 줄이는 대신 민간임대주택 특별공급 공급물량을 16%에서 20%로 늘리고, 임대료는 주변시세의 85%에서 50% 이하로 낮출 수 있게 된다.'일부 분양형'은 주택 연면적의 최대 30%까지 분양을 허용하되 총 주택물량의 40%(기존 공공주택 20%+민간특별공급물량 20%)를 주변 시세 대비 반값 이하로 공급하는 방식이다.사업자는 초기 투자자금을 회수할 수 있어 사업여건이 개선되는 효과가 있다. 대신 SH 선매입처럼 민간임대주택 특별공급 물량을 16%에서 20%로 확대하고, 임대료는 주변시세의 85% 수준에서 50% 수준으로 낮추게 된다.시 관계자는 \"분양이 허용되더라도 분양가상한제 등이 적용돼 매매가격이 주변시세 이하로 낮게 형성되게 되므로 부동산 가격 상승 등 주변에 미치는 영향은 없을 것\"이라고 예상했다.주거환경 개선방안도 담겼다. 입주자 선택의 폭을 넓히도록 전용면적을 확대·다양화한다. 전용 14㎡ 내외였던 1인 청년 주거면적은 14~20㎡로, 전용 30㎡ 내외였던 신혼부부용도 30~40㎡로 각각 넓어진다. 냉장고, 세탁기, 인덕션 등 필수가전 및 가구의 '빌트인'을 의무화해 주거부담을 낮춘다.민간임대주택이더라도 일정 소득·자산 이하에 해당할 경우 임대보증금을 지원한다. 무이자로 최대 4500만원(신혼부부 6000만원)의 보증금을 지원하며 '보증금지원형 장기안심주택' 제도를 활용할 수 있게 한다. 임대 보증금 4500만원 지원시 월 임대료 25~30% 인하 효과가 기대된다고 시는 설명했다.박원순 서울시장은 \"역세권 청년주택’이 양적 확대는 물론 주거의 질까지 담보하도록 마련했다\"며 \"앞으로도 지속적으로 상황에 맞는 추가적인 대책을 강구해 역세권 청년주택이 실효성 있는 주거복지정책으로 자리잡도록 하겠다\"고 말했다.한편 서울시는 2016년부터 역세권 고밀개발을 한시적으로 허용, 청년과 신혼부부에 공급하는 '역세권 청년주택 사업'을 진행 중이다. 지금까지 43곳에 1만7000호를 인가했으며 2022년까지 총 8만호를 공급할 계획이다.※ 저작권자 ⓒ 파이낸셜뉴스. 무단 전재-재배포 금지\n",
      "\n",
      "\n",
      "\n",
      "###요약문###\n",
      "\n",
      "\n",
      "그동안 지적됐던 △고가 임대료 △초기투자비 회수 장기화 등에 따른 사업 참여 저조 △주거환경의 질 등의 문제를 개선하는 방안이 마련했다.먼저 시는 역세권 청년주택 중 청년과 신혼부부 주택의 비중을 40∼70% 수준으로 대폭 늘리고 이를 모두 주변 시세의 50% 이하 임대료로 공급하기로 했다.현재 역세권 청년주택에서 주변 시세의 30% 수준의 임대료로 공급되는 공공임대주택 비중은 전체 물량의 20%에 그친다.\n"
     ]
    },
    {
     "name": "stdin",
     "output_type": "stream",
     "text": [
      "저장할 파일 이름을 입력하세요 :  히킼키\n"
     ]
    },
    {
     "name": "stdout",
     "output_type": "stream",
     "text": [
      "완료되었습니다.\n"
     ]
    }
   ],
   "source": [
    "from gensim.summarization.summarizer import summarize\n",
    "from newspaper import Article\n",
    "import csv\n",
    "\n",
    "url='https://news.naver.com/main/ranking/read.nhn?mid=etc&sid1=111&rankingType=popular_day&oid=014&aid=0004333412&date=20191126&type=1&rankingSectionId=101&rankingSeq=4'\n",
    "news = Article(url, language='ko')\n",
    "news.download()\n",
    "\n",
    "news.parse()\n",
    "print(news.text)\n",
    "\n",
    "print('\\n\\n\\n###요약문###\\n\\n')\n",
    "print(summarize(news.text, ratio=0.1))#ratio는 요약 비율\n",
    "\n",
    "\n",
    "temp=[]\n",
    "temp.append(news.text)\n",
    "temp.append(summarize(news.text, ratio=0.1))\n",
    "\n",
    "titleList=[]\n",
    "titleList.append(temp)\n",
    "\n",
    "\n",
    "\n",
    "search=input('저장할 파일 이름을 입력하세요 : ')\n",
    "f =open(f'{search}.csv', 'w', encoding='utf-8', newline='')\n",
    "csvWriter = csv.writer(f)\n",
    "for i in titleList:\n",
    "    csvWriter.writerow(i)\n",
    "\n",
    "f.close()\n",
    "print('완료되었습니다.')\n",
    "\n",
    "#title = soup.find_all(class_='sh_blog_title')\n"
   ]
  },
  {
   "cell_type": "code",
   "execution_count": null,
   "metadata": {},
   "outputs": [],
   "source": []
  }
 ],
 "metadata": {
  "kernelspec": {
   "display_name": "Python 3",
   "language": "python",
   "name": "python3"
  },
  "language_info": {
   "codemirror_mode": {
    "name": "ipython",
    "version": 3
   },
   "file_extension": ".py",
   "mimetype": "text/x-python",
   "name": "python",
   "nbconvert_exporter": "python",
   "pygments_lexer": "ipython3",
   "version": "3.7.4"
  }
 },
 "nbformat": 4,
 "nbformat_minor": 4
}
